{
 "cells": [
  {
   "cell_type": "markdown",
   "metadata": {},
   "source": [
    "# Titanic Survivor Predictions"
   ]
  },
  {
   "cell_type": "markdown",
   "metadata": {},
   "source": [
    "We need to determine whether or not each passenger survives. To do this we can look at the factors which may or may not affect their survival rate. These include their gender, age, socio-economic class (which we may infer from their ticket class) and other factors included in the data. We first import the necessary packages:"
   ]
  },
  {
   "cell_type": "code",
   "execution_count": 1,
   "metadata": {},
   "outputs": [],
   "source": [
    "import pandas as pd\n",
    "import numpy as np\n",
    "from matplotlib import pyplot as plt"
   ]
  },
  {
   "cell_type": "markdown",
   "metadata": {},
   "source": [
    "We then read both the training and testing csv datasets:"
   ]
  },
  {
   "cell_type": "code",
   "execution_count": 2,
   "metadata": {},
   "outputs": [],
   "source": [
    "training = pd.read_csv('./train.csv')\n",
    "testing = pd.read_csv('./test.csv')"
   ]
  },
  {
   "cell_type": "code",
   "execution_count": 3,
   "metadata": {},
   "outputs": [
    {
     "data": {
      "text/html": [
       "<div>\n",
       "<style scoped>\n",
       "    .dataframe tbody tr th:only-of-type {\n",
       "        vertical-align: middle;\n",
       "    }\n",
       "\n",
       "    .dataframe tbody tr th {\n",
       "        vertical-align: top;\n",
       "    }\n",
       "\n",
       "    .dataframe thead th {\n",
       "        text-align: right;\n",
       "    }\n",
       "</style>\n",
       "<table border=\"1\" class=\"dataframe\">\n",
       "  <thead>\n",
       "    <tr style=\"text-align: right;\">\n",
       "      <th></th>\n",
       "      <th>PassengerId</th>\n",
       "      <th>Survived</th>\n",
       "      <th>Pclass</th>\n",
       "      <th>Name</th>\n",
       "      <th>Sex</th>\n",
       "      <th>Age</th>\n",
       "      <th>SibSp</th>\n",
       "      <th>Parch</th>\n",
       "      <th>Ticket</th>\n",
       "      <th>Fare</th>\n",
       "      <th>Cabin</th>\n",
       "      <th>Embarked</th>\n",
       "    </tr>\n",
       "  </thead>\n",
       "  <tbody>\n",
       "    <tr>\n",
       "      <th>0</th>\n",
       "      <td>1</td>\n",
       "      <td>0</td>\n",
       "      <td>3</td>\n",
       "      <td>Braund, Mr. Owen Harris</td>\n",
       "      <td>male</td>\n",
       "      <td>22.0</td>\n",
       "      <td>1</td>\n",
       "      <td>0</td>\n",
       "      <td>A/5 21171</td>\n",
       "      <td>7.2500</td>\n",
       "      <td>NaN</td>\n",
       "      <td>S</td>\n",
       "    </tr>\n",
       "    <tr>\n",
       "      <th>1</th>\n",
       "      <td>2</td>\n",
       "      <td>1</td>\n",
       "      <td>1</td>\n",
       "      <td>Cumings, Mrs. John Bradley (Florence Briggs Th...</td>\n",
       "      <td>female</td>\n",
       "      <td>38.0</td>\n",
       "      <td>1</td>\n",
       "      <td>0</td>\n",
       "      <td>PC 17599</td>\n",
       "      <td>71.2833</td>\n",
       "      <td>C85</td>\n",
       "      <td>C</td>\n",
       "    </tr>\n",
       "    <tr>\n",
       "      <th>2</th>\n",
       "      <td>3</td>\n",
       "      <td>1</td>\n",
       "      <td>3</td>\n",
       "      <td>Heikkinen, Miss. Laina</td>\n",
       "      <td>female</td>\n",
       "      <td>26.0</td>\n",
       "      <td>0</td>\n",
       "      <td>0</td>\n",
       "      <td>STON/O2. 3101282</td>\n",
       "      <td>7.9250</td>\n",
       "      <td>NaN</td>\n",
       "      <td>S</td>\n",
       "    </tr>\n",
       "    <tr>\n",
       "      <th>3</th>\n",
       "      <td>4</td>\n",
       "      <td>1</td>\n",
       "      <td>1</td>\n",
       "      <td>Futrelle, Mrs. Jacques Heath (Lily May Peel)</td>\n",
       "      <td>female</td>\n",
       "      <td>35.0</td>\n",
       "      <td>1</td>\n",
       "      <td>0</td>\n",
       "      <td>113803</td>\n",
       "      <td>53.1000</td>\n",
       "      <td>C123</td>\n",
       "      <td>S</td>\n",
       "    </tr>\n",
       "    <tr>\n",
       "      <th>4</th>\n",
       "      <td>5</td>\n",
       "      <td>0</td>\n",
       "      <td>3</td>\n",
       "      <td>Allen, Mr. William Henry</td>\n",
       "      <td>male</td>\n",
       "      <td>35.0</td>\n",
       "      <td>0</td>\n",
       "      <td>0</td>\n",
       "      <td>373450</td>\n",
       "      <td>8.0500</td>\n",
       "      <td>NaN</td>\n",
       "      <td>S</td>\n",
       "    </tr>\n",
       "  </tbody>\n",
       "</table>\n",
       "</div>"
      ],
      "text/plain": [
       "   PassengerId  Survived  Pclass  \\\n",
       "0            1         0       3   \n",
       "1            2         1       1   \n",
       "2            3         1       3   \n",
       "3            4         1       1   \n",
       "4            5         0       3   \n",
       "\n",
       "                                                Name     Sex   Age  SibSp  \\\n",
       "0                            Braund, Mr. Owen Harris    male  22.0      1   \n",
       "1  Cumings, Mrs. John Bradley (Florence Briggs Th...  female  38.0      1   \n",
       "2                             Heikkinen, Miss. Laina  female  26.0      0   \n",
       "3       Futrelle, Mrs. Jacques Heath (Lily May Peel)  female  35.0      1   \n",
       "4                           Allen, Mr. William Henry    male  35.0      0   \n",
       "\n",
       "   Parch            Ticket     Fare Cabin Embarked  \n",
       "0      0         A/5 21171   7.2500   NaN        S  \n",
       "1      0          PC 17599  71.2833   C85        C  \n",
       "2      0  STON/O2. 3101282   7.9250   NaN        S  \n",
       "3      0            113803  53.1000  C123        S  \n",
       "4      0            373450   8.0500   NaN        S  "
      ]
     },
     "execution_count": 3,
     "metadata": {},
     "output_type": "execute_result"
    }
   ],
   "source": [
    "training.head()"
   ]
  },
  {
   "cell_type": "markdown",
   "metadata": {},
   "source": [
    "We will check for any missing values, or NaN or null values in the training data:"
   ]
  },
  {
   "cell_type": "code",
   "execution_count": 4,
   "metadata": {},
   "outputs": [
    {
     "data": {
      "text/plain": [
       "PassengerId      0\n",
       "Survived         0\n",
       "Pclass           0\n",
       "Name             0\n",
       "Sex              0\n",
       "Age            177\n",
       "SibSp            0\n",
       "Parch            0\n",
       "Ticket           0\n",
       "Fare             0\n",
       "Cabin          687\n",
       "Embarked         2\n",
       "dtype: int64"
      ]
     },
     "execution_count": 4,
     "metadata": {},
     "output_type": "execute_result"
    }
   ],
   "source": [
    "training.isnull().sum()"
   ]
  },
  {
   "cell_type": "markdown",
   "metadata": {},
   "source": [
    "It appears we have 177 null values in the Age column, 687 null values in the Cabin column, and 2 null values in the Embarked column. The Cabin column may not cause us too much difficulty. However, the null values in the age column may cause issues. We will leave them as is for now. The total number of adults and children on board compared to the numbers of adult and child survivors can e visualised:"
   ]
  },
  {
   "cell_type": "code",
   "execution_count": 5,
   "metadata": {},
   "outputs": [
    {
     "data": {
      "image/png": "[encoded data removed]",
      "text/plain": [
       "<Figure size 432x288 with 1 Axes>"
      ]
     },
     "metadata": {
      "needs_background": "light"
     },
     "output_type": "display_data"
    }
   ],
   "source": [
    "num_children = len(training.loc[training.Age < 18])\n",
    "num_adults = len(training.loc[training.Age >= 18])\n",
    "child_survivors = training.loc[training.Age < 18].Survived.sum()\n",
    "adult_survivors = training.loc[training.Age >= 18].Survived.sum()\n",
    "\n",
    "labels = ['Adults', 'Children']\n",
    "total_nums = [num_adults, num_children]\n",
    "survived_nums = [adult_survivors, child_survivors]\n",
    "\n",
    "x = np.arange(len(labels))\n",
    "width = 0.35\n",
    "\n",
    "fig, ax_totals = plt.subplots()\n",
    "ax_totals.bar(x - width/2, total_nums, width, label='Total')\n",
    "ax_totals.bar(x + width/2, survived_nums, width, label='Survived')\n",
    "\n",
    "ax_totals.set_ylabel('Number of People')\n",
    "ax_totals.set_title('Total Number of Passengers vs Number Survived')\n",
    "ax_totals.set_xticks(x)\n",
    "ax_totals.set_xticklabels(labels)\n",
    "ax_totals.legend()\n",
    "\n",
    "plt.show()"
   ]
  },
  {
   "cell_type": "markdown",
   "metadata": {},
   "source": [
    "Of those surviving children and adults we can look at the breakdown of how many were male/female:"
   ]
  },
  {
   "cell_type": "code",
   "execution_count": 6,
   "metadata": {},
   "outputs": [
    {
     "data": {
      "image/png": "[encoded data removed]",
      "text/plain": [
       "<Figure size 432x288 with 1 Axes>"
      ]
     },
     "metadata": {
      "needs_background": "light"
     },
     "output_type": "display_data"
    }
   ],
   "source": [
    "male_child_survivors = training.loc[(training.Age < 18) & (training.Sex == 'male')].Survived.sum()\n",
    "female_child_survivors = training.loc[(training.Age < 18) & (training.Sex == 'female')].Survived.sum()\n",
    "male_adult_survivors = training.loc[(training.Age >= 18) & (training.Sex == 'male')].Survived.sum()\n",
    "female_adult_survivors = training.loc[(training.Age >= 18) & (training.Sex == 'female')].Survived.sum()\n",
    "\n",
    "labels = ['Adults', 'Children']\n",
    "male_survivors = [male_adult_survivors, male_child_survivors]\n",
    "female_survivors = [female_adult_survivors, female_child_survivors]\n",
    "\n",
    "x = np.arange(len(labels))\n",
    "width = 0.35\n",
    "\n",
    "fig_survivors, ax_survivors = plt.subplots()\n",
    "ax_survivors.bar(x - width/2, male_survivors, width, label='Male')\n",
    "ax_survivors.bar(x + width/2, female_survivors, width, label='Female')\n",
    "\n",
    "ax_survivors.set_ylabel('Number of People')\n",
    "ax_survivors.set_title('Gender Breakdown of Passengers Survived')\n",
    "ax_survivors.set_xticks(x)\n",
    "ax_survivors.set_xticklabels(labels)\n",
    "ax_survivors.legend()\n",
    "\n",
    "plt.show()"
   ]
  },
  {
   "cell_type": "markdown",
   "metadata": {},
   "source": [
    "So it is evident that females are in the majority of those survived. Particularly, more than twice as many adult females survived than adult males. We can now look to the socio-economic factor. So first determining what class of passenger is more likely to survive:"
   ]
  },
  {
   "cell_type": "code",
   "execution_count": 7,
   "metadata": {},
   "outputs": [
    {
     "data": {
      "image/png": "[encoded data removed]",
      "text/plain": [
       "<Figure size 432x288 with 1 Axes>"
      ]
     },
     "metadata": {
      "needs_background": "light"
     },
     "output_type": "display_data"
    }
   ],
   "source": [
    "num_first = len(training[training.Pclass == 1])\n",
    "num_second = len(training[training.Pclass == 2])\n",
    "num_third = len(training[training.Pclass == 3])\n",
    "first_survivors = training[training.Pclass == 1].Survived.sum()\n",
    "second_survivors = training[training.Pclass == 2].Survived.sum()\n",
    "third_survivors = training[training.Pclass == 3].Survived.sum()\n",
    "\n",
    "labels = ['First', 'Second', 'Third']\n",
    "totals_class = [num_first, num_second, num_third]\n",
    "survivors_class = [first_survivors, second_survivors, third_survivors]\n",
    "\n",
    "x = np.arange(len(labels))\n",
    "width = 0.35\n",
    "\n",
    "fig_class, ax_class = plt.subplots()\n",
    "ax_class.bar(x - width/2, totals_class, width, label='Total by Class')\n",
    "ax_class.bar(x + width/2, survivors_class, width, label='Surviving')\n",
    "\n",
    "ax_class.set_ylabel('Number of People')\n",
    "ax_class.set_title('Class Breakdown of Passengers Survived')\n",
    "ax_class.set_xticks(x)\n",
    "ax_class.set_xticklabels(labels)\n",
    "ax_class.legend()\n",
    "\n",
    "plt.show()"
   ]
  },
  {
   "cell_type": "markdown",
   "metadata": {},
   "source": [
    "It is clear that a higher percentage of higher class people survived. While \"similar\" numbers of passengers across the three classes survived (i.e. 136 vs 87 vs 119) the percentage surviving is stark (63% vs 47% vs 24%)."
   ]
  },
  {
   "cell_type": "markdown",
   "metadata": {},
   "source": [
    "As a first step to making predictions on who would survive we start with a K-Nearest Neighbours algorithm. We first must clean the data and also split the training data into a training and validation set:"
   ]
  },
  {
   "cell_type": "code",
   "execution_count": 8,
   "metadata": {},
   "outputs": [],
   "source": [
    "from sklearn.model_selection import train_test_split"
   ]
  },
  {
   "cell_type": "code",
   "execution_count": 9,
   "metadata": {},
   "outputs": [],
   "source": [
    "training.Age.fillna(training.Age.mean(), inplace=True)\n",
    "training.replace({\"male\": 1, \"female\": 0}, inplace = True)\n",
    "\n",
    "reduced_features = training[['Pclass', 'Sex', 'Age', 'SibSp']]\n",
    "targets = training['Survived']\n",
    "\n",
    "X_train, X_validation, y_train, y_validation = train_test_split(reduced_features, targets, train_size=0.7, test_size=0.3)"
   ]
  },
  {
   "cell_type": "markdown",
   "metadata": {},
   "source": [
    "We then can implement the KNN model and obtain a measure of the accuracy of predicting survivors using the accuracy score and F1 score:"
   ]
  },
  {
   "cell_type": "code",
   "execution_count": 10,
   "metadata": {},
   "outputs": [],
   "source": [
    "from sklearn.neighbors import KNeighborsClassifier\n",
    "from sklearn.metrics import f1_score, accuracy_score"
   ]
  },
  {
   "cell_type": "code",
   "execution_count": 11,
   "metadata": {},
   "outputs": [
    {
     "name": "stdout",
     "output_type": "stream",
     "text": [
      "F1 score: 0.6387434554973822\n",
      "Accuracy score: 0.7425373134328358\n"
     ]
    }
   ],
   "source": [
    "knn_model = KNeighborsClassifier(5)\n",
    "knn_model.fit(X_train, y_train)\n",
    "predicted_knn_survival = knn_model.predict(X_validation)\n",
    "knn_f1_score = f1_score(predicted_knn_survival, y_validation)\n",
    "knn_accuracy_score = accuracy_score(predicted_knn_survival, y_validation)\n",
    "\n",
    "print('F1 score:', knn_f1_score)\n",
    "print('Accuracy score:', knn_accuracy_score)"
   ]
  },
  {
   "cell_type": "markdown",
   "metadata": {},
   "source": [
    "As a second step we will implement a Support Vector Machine:"
   ]
  },
  {
   "cell_type": "code",
   "execution_count": 12,
   "metadata": {},
   "outputs": [],
   "source": [
    "from sklearn.svm import SVC"
   ]
  },
  {
   "cell_type": "code",
   "execution_count": 13,
   "metadata": {},
   "outputs": [
    {
     "name": "stdout",
     "output_type": "stream",
     "text": [
      "F1 score: 0.693069306930693\n",
      "Accuracy score: 0.7686567164179104\n"
     ]
    }
   ],
   "source": [
    "svc_model = SVC(kernel = 'linear', C = 1)\n",
    "svc_model.fit(X_train, y_train)\n",
    "predicted_svc_survival = svc_model.predict(X_validation)\n",
    "svc_f1_score = f1_score(predicted_svc_survival, y_validation)\n",
    "svc_accuracy_score = accuracy_score(predicted_svc_survival, y_validation)\n",
    "\n",
    "print('F1 score:', svc_f1_score)\n",
    "print('Accuracy score:', svc_accuracy_score)"
   ]
  },
  {
   "cell_type": "markdown",
   "metadata": {},
   "source": [
    "As a final step we will implement a simple decision tree:"
   ]
  },
  {
   "cell_type": "code",
   "execution_count": 14,
   "metadata": {},
   "outputs": [],
   "source": [
    "from sklearn.tree import DecisionTreeClassifier"
   ]
  },
  {
   "cell_type": "code",
   "execution_count": 15,
   "metadata": {},
   "outputs": [
    {
     "name": "stdout",
     "output_type": "stream",
     "text": [
      "F1 score: 0.7487179487179487\n",
      "Accuracy score: 0.8171641791044776\n"
     ]
    }
   ],
   "source": [
    "decision_model = DecisionTreeClassifier(max_depth = 4)\n",
    "decision_model.fit(X_train, y_train)\n",
    "predicted_decision_survival = decision_model.predict(X_validation)\n",
    "decision_f1_score = f1_score(predicted_decision_survival, y_validation)\n",
    "decision_accuracy_score = accuracy_score(predicted_decision_survival, y_validation)\n",
    "\n",
    "print('F1 score:', decision_f1_score)\n",
    "print('Accuracy score:', decision_accuracy_score)"
   ]
  }
 ],
 "metadata": {
  "kernelspec": {
   "display_name": "Python 3",
   "language": "python",
   "name": "python3"
  },
  "language_info": {
   "codemirror_mode": {
    "name": "ipython",
    "version": 3
   },
   "file_extension": ".py",
   "mimetype": "text/x-python",
   "name": "python",
   "nbconvert_exporter": "python",
   "pygments_lexer": "ipython3",
   "version": "3.8.5"
  }
 },
 "nbformat": 4,
 "nbformat_minor": 4
}
